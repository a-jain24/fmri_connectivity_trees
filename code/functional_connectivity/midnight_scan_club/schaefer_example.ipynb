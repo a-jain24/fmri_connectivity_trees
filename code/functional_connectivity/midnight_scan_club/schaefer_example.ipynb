{
 "cells": [
  {
   "cell_type": "code",
   "execution_count": 2,
   "metadata": {},
   "outputs": [],
   "source": [
    "from nilearn.connectome import ConnectivityMeasure\n",
    "from nilearn.maskers import MultiNiftiLabelsMasker\n",
    "from nilearn import plotting\n",
    "from nilearn import datasets"
   ]
  },
  {
   "cell_type": "code",
   "execution_count": 3,
   "metadata": {},
   "outputs": [
    {
     "name": "stdout",
     "output_type": "stream",
     "text": [
      "[get_dataset_dir] Dataset found in /Users/aj/nilearn_data/schaefer_2018\n",
      "Yeo atlas nifti image (3D) with 400 ROIs and 7 networks is located at:  is located at: /Users/aj/nilearn_data/schaefer_2018/Schaefer2018_100Parcels_7Networks_order_FSLMNI152_1mm.nii.gz\n"
     ]
    }
   ],
   "source": [
    "schaefer = datasets.fetch_atlas_schaefer_2018(n_rois=100, yeo_networks=7, resolution_mm=1, data_dir=None, base_url=None, resume=True, verbose=1)\n",
    "print(\n",
    "    \"Yeo atlas nifti image (3D) with 400 ROIs and 7 networks is located at: \"\n",
    "    f\" is located at: {schaefer.maps}\"\n",
    ")"
   ]
  },
  {
   "cell_type": "code",
   "execution_count": 4,
   "metadata": {},
   "outputs": [
    {
     "name": "stdout",
     "output_type": "stream",
     "text": [
      "[b'7Networks_LH_Vis_1' b'7Networks_LH_Vis_2' b'7Networks_LH_Vis_3'\n",
      " b'7Networks_LH_Vis_4' b'7Networks_LH_Vis_5' b'7Networks_LH_Vis_6'\n",
      " b'7Networks_LH_Vis_7' b'7Networks_LH_Vis_8' b'7Networks_LH_Vis_9'\n",
      " b'7Networks_LH_SomMot_1' b'7Networks_LH_SomMot_2'\n",
      " b'7Networks_LH_SomMot_3' b'7Networks_LH_SomMot_4'\n",
      " b'7Networks_LH_SomMot_5' b'7Networks_LH_SomMot_6'\n",
      " b'7Networks_LH_DorsAttn_Post_1' b'7Networks_LH_DorsAttn_Post_2'\n",
      " b'7Networks_LH_DorsAttn_Post_3' b'7Networks_LH_DorsAttn_Post_4'\n",
      " b'7Networks_LH_DorsAttn_Post_5' b'7Networks_LH_DorsAttn_Post_6'\n",
      " b'7Networks_LH_DorsAttn_PrCv_1' b'7Networks_LH_DorsAttn_FEF_1'\n",
      " b'7Networks_LH_SalVentAttn_ParOper_1'\n",
      " b'7Networks_LH_SalVentAttn_FrOperIns_1'\n",
      " b'7Networks_LH_SalVentAttn_FrOperIns_2'\n",
      " b'7Networks_LH_SalVentAttn_PFCl_1' b'7Networks_LH_SalVentAttn_Med_1'\n",
      " b'7Networks_LH_SalVentAttn_Med_2' b'7Networks_LH_SalVentAttn_Med_3'\n",
      " b'7Networks_LH_Limbic_OFC_1' b'7Networks_LH_Limbic_TempPole_1'\n",
      " b'7Networks_LH_Limbic_TempPole_2' b'7Networks_LH_Cont_Par_1'\n",
      " b'7Networks_LH_Cont_PFCl_1' b'7Networks_LH_Cont_pCun_1'\n",
      " b'7Networks_LH_Cont_Cing_1' b'7Networks_LH_Default_Temp_1'\n",
      " b'7Networks_LH_Default_Temp_2' b'7Networks_LH_Default_Par_1'\n",
      " b'7Networks_LH_Default_Par_2' b'7Networks_LH_Default_PFC_1'\n",
      " b'7Networks_LH_Default_PFC_2' b'7Networks_LH_Default_PFC_3'\n",
      " b'7Networks_LH_Default_PFC_4' b'7Networks_LH_Default_PFC_5'\n",
      " b'7Networks_LH_Default_PFC_6' b'7Networks_LH_Default_PFC_7'\n",
      " b'7Networks_LH_Default_pCunPCC_1' b'7Networks_LH_Default_pCunPCC_2'\n",
      " b'7Networks_RH_Vis_1' b'7Networks_RH_Vis_2' b'7Networks_RH_Vis_3'\n",
      " b'7Networks_RH_Vis_4' b'7Networks_RH_Vis_5' b'7Networks_RH_Vis_6'\n",
      " b'7Networks_RH_Vis_7' b'7Networks_RH_Vis_8' b'7Networks_RH_SomMot_1'\n",
      " b'7Networks_RH_SomMot_2' b'7Networks_RH_SomMot_3'\n",
      " b'7Networks_RH_SomMot_4' b'7Networks_RH_SomMot_5'\n",
      " b'7Networks_RH_SomMot_6' b'7Networks_RH_SomMot_7'\n",
      " b'7Networks_RH_SomMot_8' b'7Networks_RH_DorsAttn_Post_1'\n",
      " b'7Networks_RH_DorsAttn_Post_2' b'7Networks_RH_DorsAttn_Post_3'\n",
      " b'7Networks_RH_DorsAttn_Post_4' b'7Networks_RH_DorsAttn_Post_5'\n",
      " b'7Networks_RH_DorsAttn_PrCv_1' b'7Networks_RH_DorsAttn_FEF_1'\n",
      " b'7Networks_RH_SalVentAttn_TempOccPar_1'\n",
      " b'7Networks_RH_SalVentAttn_TempOccPar_2'\n",
      " b'7Networks_RH_SalVentAttn_FrOperIns_1' b'7Networks_RH_SalVentAttn_Med_1'\n",
      " b'7Networks_RH_SalVentAttn_Med_2' b'7Networks_RH_Limbic_OFC_1'\n",
      " b'7Networks_RH_Limbic_TempPole_1' b'7Networks_RH_Cont_Par_1'\n",
      " b'7Networks_RH_Cont_Par_2' b'7Networks_RH_Cont_PFCl_1'\n",
      " b'7Networks_RH_Cont_PFCl_2' b'7Networks_RH_Cont_PFCl_3'\n",
      " b'7Networks_RH_Cont_PFCl_4' b'7Networks_RH_Cont_Cing_1'\n",
      " b'7Networks_RH_Cont_PFCmp_1' b'7Networks_RH_Cont_pCun_1'\n",
      " b'7Networks_RH_Default_Par_1' b'7Networks_RH_Default_Temp_1'\n",
      " b'7Networks_RH_Default_Temp_2' b'7Networks_RH_Default_Temp_3'\n",
      " b'7Networks_RH_Default_PFCv_1' b'7Networks_RH_Default_PFCv_2'\n",
      " b'7Networks_RH_Default_PFCdPFCm_1' b'7Networks_RH_Default_PFCdPFCm_2'\n",
      " b'7Networks_RH_Default_PFCdPFCm_3' b'7Networks_RH_Default_pCunPCC_1'\n",
      " b'7Networks_RH_Default_pCunPCC_2']\n"
     ]
    }
   ],
   "source": [
    "schaefer_labels = schaefer.labels\n",
    "print(schaefer_labels)"
   ]
  },
  {
   "cell_type": "code",
   "execution_count": 5,
   "metadata": {},
   "outputs": [
    {
     "name": "stdout",
     "output_type": "stream",
     "text": [
      ".. _schaefer_atlas:\n",
      "\n",
      "Schaefer 2018 atlas\n",
      "===================\n",
      "\n",
      "Access\n",
      "------\n",
      "See :func:`nilearn.datasets.fetch_atlas_schaefer_2018`.\n",
      "\n",
      "Notes\n",
      "-----\n",
      "This atlas (:footcite:t:`schaefer_atlas`) provides a labeling of cortical voxels in the MNI152\n",
      "space, see :footcite:t:`Schaefer2017`.\n",
      "Each ROI is annotated with a network from the :term:`parcellation`\n",
      "(7- or 17-network solution; see :footcite:t:`Yeo2011`).\n",
      "\n",
      "Different versions of the atlas are available, varying in\n",
      "- number of rois (100 to 1000),\n",
      "- network annotation (7 or 17)\n",
      "- spatial resolution of the atlas (1 or 2 mm)\n",
      "\n",
      "Content\n",
      "-------\n",
      "    :'maps': 3D Nifti image, values are indices in the list of labels.\n",
      "    :'labels': ROI labels including Yeo-network annotation.\n",
      "    :'description': A short description of the atlas and some references.\n",
      "\n",
      "References\n",
      "----------\n",
      "\n",
      ".. footbibliography::\n",
      "\n",
      "License\n",
      "-------\n",
      "MIT\n",
      "\n"
     ]
    }
   ],
   "source": [
    "print(schaefer.description)"
   ]
  },
  {
   "cell_type": "code",
   "execution_count": 6,
   "metadata": {},
   "outputs": [
    {
     "name": "stdout",
     "output_type": "stream",
     "text": [
      "[get_dataset_dir] Dataset found in /Users/aj/nilearn_data/development_fmri\n",
      "[get_dataset_dir] Dataset found in /Users/aj/nilearn_data/development_fmri/development_fmri\n",
      "[get_dataset_dir] Dataset found in /Users/aj/nilearn_data/development_fmri/development_fmri\n",
      "Functional nifti images (4D, e.g., one subject) are located at : '/Users/aj/nilearn_data/development_fmri/development_fmri/sub-pixar123_task-pixar_space-MNI152NLin2009cAsym_desc-preproc_bold.nii.gz'\n",
      "Counfound csv files (of same subject) are located at : '/Users/aj/nilearn_data/development_fmri/development_fmri/sub-pixar123_task-pixar_desc-reducedConfounds_regressors.tsv'\n"
     ]
    }
   ],
   "source": [
    "data = datasets.fetch_development_fmri(n_subjects=10)\n",
    "\n",
    "print(\n",
    "    \"Functional nifti images (4D, e.g., one subject) \"\n",
    "    f\"are located at : {data.func[0]!r}\"\n",
    ")\n",
    "print(\n",
    "    \"Counfound csv files (of same subject) are located \"\n",
    "    f\"at : {data['confounds'][0]!r}\"\n",
    ")"
   ]
  },
  {
   "cell_type": "code",
   "execution_count": 7,
   "metadata": {},
   "outputs": [],
   "source": [
    "# ConenctivityMeasure from Nilearn uses simple 'correlation' to compute\n",
    "# connectivity matrices for all subjects in a list\n",
    "connectome_measure = ConnectivityMeasure(\n",
    "    kind=\"correlation\",\n",
    "    standardize=\"zscore_sample\",\n",
    ")\n",
    "\n",
    "# create masker using MultiNiftiLabelsMasker to extract functional data within\n",
    "# atlas parcels from multiple subjects using parallelization to speed up the\n",
    "# computation\n",
    "masker = MultiNiftiLabelsMasker(\n",
    "    labels_img=schaefer.maps,  # Both hemispheres\n",
    "    standardize=\"zscore_sample\",\n",
    "    standardize_confounds=\"zscore_sample\",\n",
    "    memory=\"nilearn_cache\",\n",
    "    n_jobs=2,\n",
    ")\n",
    "\n",
    "# extract time series from all subjects\n",
    "time_series = masker.fit_transform(data.func, confounds=data.confounds)\n",
    "\n",
    "# calculate correlation matrices across subjects and display\n",
    "correlation_matrices = connectome_measure.fit_transform(time_series)\n",
    "\n",
    "# Mean correlation matrix across 10 subjects can be grabbed like this,\n",
    "# using connectome measure object\n",
    "mean_correlation_matrix = connectome_measure.mean_\n",
    "\n",
    "# grab center coordinates for atlas labels\n",
    "coordinates = plotting.find_parcellation_cut_coords(labels_img=schaefer.maps)"
   ]
  },
  {
   "cell_type": "code",
   "execution_count": 1,
   "metadata": {},
   "outputs": [
    {
     "ename": "NameError",
     "evalue": "name 'plotting' is not defined",
     "output_type": "error",
     "traceback": [
      "\u001b[31m---------------------------------------------------------------------------\u001b[39m",
      "\u001b[31mNameError\u001b[39m                                 Traceback (most recent call last)",
      "\u001b[36mCell\u001b[39m\u001b[36m \u001b[39m\u001b[32mIn[1]\u001b[39m\u001b[32m, line 2\u001b[39m\n\u001b[32m      1\u001b[39m \u001b[38;5;66;03m# plot connectome with 80% edge strength in the connectivity\u001b[39;00m\n\u001b[32m----> \u001b[39m\u001b[32m2\u001b[39m connectome = \u001b[43mplotting\u001b[49m.plot_connectome(\n\u001b[32m      3\u001b[39m     mean_correlation_matrix, coordinates, edge_threshold=\u001b[33m\"\u001b[39m\u001b[33m95\u001b[39m\u001b[33m%\u001b[39m\u001b[33m\"\u001b[39m, node_size=\u001b[32m5\u001b[39m, colorbar=\u001b[38;5;28;01mTrue\u001b[39;00m\n\u001b[32m      4\u001b[39m )\n",
      "\u001b[31mNameError\u001b[39m: name 'plotting' is not defined"
     ]
    }
   ],
   "source": [
    "# plot connectome with 80% edge strength in the connectivity\n",
    "connectome = plotting.plot_connectome(\n",
    "    mean_correlation_matrix, coordinates, edge_threshold=\"95%\", node_size=5, colorbar=True\n",
    ")"
   ]
  }
 ],
 "metadata": {
  "kernelspec": {
   "display_name": "dynamric",
   "language": "python",
   "name": "python3"
  },
  "language_info": {
   "codemirror_mode": {
    "name": "ipython",
    "version": 3
   },
   "file_extension": ".py",
   "mimetype": "text/x-python",
   "name": "python",
   "nbconvert_exporter": "python",
   "pygments_lexer": "ipython3",
   "version": "3.13.0"
  }
 },
 "nbformat": 4,
 "nbformat_minor": 2
}
