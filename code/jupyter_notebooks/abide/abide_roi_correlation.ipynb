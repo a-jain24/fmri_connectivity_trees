{
 "cells": [
  {
   "cell_type": "code",
   "execution_count": 2,
   "metadata": {},
   "outputs": [],
   "source": [
    "import nilearn\n",
    "from nilearn import datasets, plotting\n",
    "import os\n",
    "import requests\n",
    "import csv\n",
    "import pandas as pd\n",
    "import nibabel as nib\n",
    "import numpy as np\n",
    "from matplotlib import pyplot as plt"
   ]
  },
  {
   "cell_type": "code",
   "execution_count": 13,
   "metadata": {},
   "outputs": [
    {
     "name": "stdout",
     "output_type": "stream",
     "text": [
      "[get_dataset_dir] Dataset found in /home/dxj180007/nilearn_data/msdl_atlas\n",
      "[get_dataset_dir] Dataset found in /mfs/io/groups/dmello/projects/dynamric/tree_mri/code/HarvardOxford/fsl\n"
     ]
    }
   ],
   "source": [
    "msdl_data = datasets.fetch_atlas_msdl()\n",
    "msdl_coords = msdl_data.region_coords\n",
    "\n",
    "whole_data = datasets.fetch_atlas_harvard_oxford('sub-maxprob-thr25-1mm', data_dir='/mfs/io/groups/dmello/projects/dynamric/tree_mri/code/HarvardOxford')\n",
    "whole_coords = nilearn.plotting.find_parcellation_cut_coords(whole_data.maps)"
   ]
  },
  {
   "cell_type": "code",
   "execution_count": null,
   "metadata": {},
   "outputs": [],
   "source": [
    "# load 3d shapes\n",
    "cort_shape = np.loadtxt('abide_30_msdl_pooled_3d_shape.csv', delimiter=',').astype(int)\n",
    " # cereb_shape = np.loadtxt('abide_30_diedrichsen_pooled_3d_shape.csv', delimiter=',').astype(int)\n",
    "whole_shape = np.loadtxt('abide_30_harvard_oxford_pooled_3d_shape.csv', delimiter=',').astype(int)\n",
    "\n",
    "# load and reshape pooled time series\n",
    "cort_pooled = np.loadtxt('abide_30_msdl_pooled.csv', delimiter=',').reshape(cort_shape)\n",
    "# cereb_pooled = np.loadtxt('abide_30_diedrichsen_pooled.csv', delimiter=',').reshape(cereb_shape)\n",
    "whole_pooled = np.loadtxt('abide_30_harvard_oxford_pooled.csv', delimiter=',').reshape(whole_shape)"
   ]
  },
  {
   "cell_type": "code",
   "execution_count": 4,
   "metadata": {},
   "outputs": [
    {
     "name": "stdout",
     "output_type": "stream",
     "text": [
      "(30, 195, 39)\n",
      "(30, 195, 21)\n"
     ]
    }
   ],
   "source": [
    "print(cort_pooled.shape)  # check shapes of loaded arrays\n",
    "print(whole_pooled.shape) # check shapes of loaded arrays"
   ]
  },
  {
   "cell_type": "code",
   "execution_count": null,
   "metadata": {},
   "outputs": [],
   "source": [
    "# Base URL for the dataset\n",
    "base_url = \"/mfs/io/groups/dmello/projects/dynamric/tree_mri/datasets/abide/preprocessed_dataset/Outputs/dparsf/filt_noglobal/func_preproc\"\n",
    "\n",
    "# Function to construct the download URL\n",
    "def construct_url(base_url, file_id):\n",
    "    return f\"{base_url}/{file_id}_func_preproc.nii.gz\"\n",
    "\n",
    "s3_pheno_file = \"/mfs/io/groups/dmello/projects/dynamric/tree_mri/datasets/abide/Phenotypic_V1_0b_preprocessed1.csv\"\n",
    "pheno_data = pd.read_csv(s3_pheno_file)\n",
    "\n",
    "# code phenotypes, 0 as typically developing control (TDC), 1 as autism diagnosis\n",
    "abide_files = os.listdir(base_url)\n",
    "len(abide_files)\n",
    "\n",
    "abide_ids = []\n",
    "phenotype = []\n",
    "\n",
    "for i in range(len(pheno_data)):\n",
    "    file_id = pheno_data['FILE_ID'][i]\n",
    "    dx = pheno_data['DX_GROUP'][i]\n",
    "    url = f'{file_id}_func_preproc.nii.gz'\n",
    "    if url in abide_files: \n",
    "        abide_ids.append(file_id)\n",
    "        if dx == 1: phenotype.append(1) # autism diagnosis\n",
    "        else: phenotype.append(0) # tdc"
   ]
  },
  {
   "cell_type": "markdown",
   "metadata": {},
   "source": [
    "## simple correlation matrices"
   ]
  },
  {
   "cell_type": "code",
   "execution_count": null,
   "metadata": {},
   "outputs": [],
   "source": [
    "from nilearn.connectome import ConnectivityMeasure\n",
    "\n",
    "correlation_measure = ConnectivityMeasure(\n",
    "    kind=\"correlation\",\n",
    "    standardize=\"zscore_sample\",\n",
    ")"
   ]
  },
  {
   "cell_type": "code",
   "execution_count": null,
   "metadata": {},
   "outputs": [],
   "source": [
    "# separate timeseries for asd and tdc\n",
    "def get_groups(pooled_subjects, phenotype):\n",
    "    asd = []\n",
    "    tdc = []\n",
    "    for i in range(30):\n",
    "        if phenotype[i] == 1:\n",
    "            asd.append(pooled_subjects[i])\n",
    "        else: tdc.append(pooled_subjects[i])\n",
    "    asd = np.array(asd)\n",
    "    tdc = np.array(tdc)\n",
    "\n",
    "    return {'asd': asd, 'tdc': tdc}"
   ]
  },
  {
   "cell_type": "code",
   "execution_count": null,
   "metadata": {},
   "outputs": [],
   "source": [
    "cort_groups = get_groups(cort_pooled, phenotype)\n",
    "# cereb_groups = get_groups(cereb_pooled, phenotype)\n",
    "whole_groups = get_groups(whole_pooled, phenotype)"
   ]
  },
  {
   "cell_type": "code",
   "execution_count": null,
   "metadata": {},
   "outputs": [],
   "source": [
    "# calculate mean correlation matrix and mean corr arr\n",
    "def get_mean_corr(pooled_subjects: dict, correlation_measure=correlation_measure):\n",
    "\n",
    "    asd = pooled_subjects['asd']\n",
    "    tdc = pooled_subjects['tdc']\n",
    "\n",
    "    correlation_asd = correlation_measure.fit_transform(asd)\n",
    "    mean_correlation_matrix_asd = correlation_measure.mean_\n",
    "\n",
    "    correlation_tdc = correlation_measure.fit_transform(tdc)\n",
    "    mean_correlation_matrix_tdc = correlation_measure.mean_\n",
    "\n",
    "    mean_corr_asd = np.mean(mean_correlation_matrix_asd, axis=1)\n",
    "    mean_corr_tdc = np.mean(mean_correlation_matrix_tdc, axis=1)\n",
    "    \n",
    "    # dictionary containing tuple with mean correlation matrix and mean correlation\n",
    "    return {'asd': (correlation_asd, mean_correlation_matrix_asd, mean_corr_asd), 'tdc': (correlation_tdc, mean_correlation_matrix_tdc, mean_corr_tdc)}"
   ]
  },
  {
   "cell_type": "code",
   "execution_count": 8,
   "metadata": {},
   "outputs": [],
   "source": [
    "#visualize asd and tdc corr side by side\n",
    "def visualize_corr(asd_mat, tdc_mat):\n",
    "\n",
    "    # Set the figure size and create subplots\n",
    "    fig, axes = plt.subplots(1, 2, figsize=(10, 5))  # Wider figure for better readability\n",
    "\n",
    "    # Set consistent color scale across both plots\n",
    "    vmin = min(asd_mat.min(), tdc_mat.min())\n",
    "    vmax = max(asd_mat.max(), tdc_mat.max())\n",
    "\n",
    "    # Plot the first matrix\n",
    "    im1 = axes[0].matshow(asd_mat, vmin=vmin, vmax=vmax, cmap='viridis')\n",
    "    axes[0].set_title('ASD Cort')\n",
    "\n",
    "    # Plot the second matrix\n",
    "    im2 = axes[1].matshow(tdc_mat, vmin=vmin, vmax=vmax, cmap='viridis')\n",
    "    axes[1].set_title('TDC Cort')\n",
    "\n",
    "    # Add a shared colorbar without overlap\n",
    "    cbar = fig.colorbar(im1, ax=axes.ravel().tolist(), orientation='vertical', fraction=0.05, pad=0.05)\n",
    "    cbar.ax.set_position([1, 0.15, 0.02, 0.7])  # [x, y, width, height]\n",
    "\n",
    "    # Improve layout spacing\n",
    "    plt.subplots_adjust(wspace=0.3, right=0.9)\n",
    "\n",
    "    # Adjust layout\n",
    "    plt.tight_layout()\n",
    "    plt.show()"
   ]
  },
  {
   "cell_type": "code",
   "execution_count": null,
   "metadata": {},
   "outputs": [
    {
     "ename": "NameError",
     "evalue": "name 'cort_groups' is not defined",
     "output_type": "error",
     "traceback": [
      "\u001b[31m---------------------------------------------------------------------------\u001b[39m",
      "\u001b[31mNameError\u001b[39m                                 Traceback (most recent call last)",
      "\u001b[36mCell\u001b[39m\u001b[36m \u001b[39m\u001b[32mIn[9]\u001b[39m\u001b[32m, line 2\u001b[39m\n\u001b[32m      1\u001b[39m \u001b[38;5;66;03m# get cort corr matrices\u001b[39;00m\n\u001b[32m----> \u001b[39m\u001b[32m2\u001b[39m mean_corr_cort = get_mean_corr(\u001b[43mcort_groups\u001b[49m)\n\u001b[32m      4\u001b[39m \u001b[38;5;66;03m# get cereb corr matrices\u001b[39;00m\n\u001b[32m      5\u001b[39m \u001b[38;5;66;03m# mean_corr_cereb = get_mean_corr(cereb_groups)  \u001b[39;00m\n\u001b[32m      6\u001b[39m \n\u001b[32m      7\u001b[39m \u001b[38;5;66;03m# get whole corr matrices\u001b[39;00m\n\u001b[32m      8\u001b[39m mean_corr_whole = get_mean_corr(whole_groups)\n",
      "\u001b[31mNameError\u001b[39m: name 'cort_groups' is not defined"
     ]
    }
   ],
   "source": [
    "# get cort corr matrices\n",
    "mean_corr_cort = get_mean_corr(cort_groups)\n",
    "\n",
    "# get cereb corr matrices\n",
    "# mean_corr_cereb = get_mean_corr(cereb_groups)  \n",
    "\n",
    "# get whole corr matrices\n",
    "mean_corr_whole = get_mean_corr(whole_groups)"
   ]
  },
  {
   "cell_type": "code",
   "execution_count": null,
   "metadata": {},
   "outputs": [],
   "source": [
    "#visualize asd and tdc corr side by side\n",
    "def visualize_corr(mean_corr):\n",
    "\n",
    "    asd_mat = mean_corr['asd'][1]  # mean correlation matrix for ASD\n",
    "    tdc_mat = mean_corr['tdc'][1]  # mean correlation matrix for TDC\n",
    "\n",
    "    # Set the figure size and create subplots\n",
    "    fig, axes = plt.subplots(1, 2, figsize=(10, 5))  # Wider figure for better readability\n",
    "\n",
    "    # Set consistent color scale across both plots\n",
    "    vmin = min(asd_mat.min(), tdc_mat.min())\n",
    "    vmax = max(asd_mat.max(), tdc_mat.max())\n",
    "\n",
    "    # Plot the first matrix\n",
    "    im1 = axes[0].matshow(asd_mat, vmin=vmin, vmax=vmax, cmap='viridis')\n",
    "    axes[0].set_title('ASD Cort')\n",
    "\n",
    "    # Plot the second matrix\n",
    "    im2 = axes[1].matshow(tdc_mat, vmin=vmin, vmax=vmax, cmap='viridis')\n",
    "    axes[1].set_title('TDC Cort')\n",
    "\n",
    "    # Add a shared colorbar without overlap\n",
    "    cbar = fig.colorbar(im1, ax=axes.ravel().tolist(), orientation='vertical', fraction=0.05, pad=0.05)\n",
    "    cbar.ax.set_position([1, 0.15, 0.02, 0.7])  # [x, y, width, height]\n",
    "\n",
    "    # Improve layout spacing\n",
    "    plt.subplots_adjust(wspace=0.3, right=0.9)\n",
    "\n",
    "    # Adjust layout\n",
    "    plt.tight_layout()\n",
    "    plt.show()"
   ]
  },
  {
   "cell_type": "code",
   "execution_count": null,
   "metadata": {},
   "outputs": [],
   "source": [
    "visualize_corr(mean_corr_cort) # visualize cort mean correlation matrices"
   ]
  },
  {
   "cell_type": "code",
   "execution_count": null,
   "metadata": {},
   "outputs": [],
   "source": [
    "visualize_corr(mean_corr_whole) # visualize whole mean correlation matrices"
   ]
  },
  {
   "cell_type": "code",
   "execution_count": null,
   "metadata": {},
   "outputs": [],
   "source": [
    "def plot_connectome(mean_correlation_matrix, coords, title='connectome'):\n",
    "    \"\"\"\n",
    "    Plot the connectome using the mean correlation matrix and coordinates.\n",
    "    \"\"\"\n",
    "    # Plotting the connectome\n",
    "    plotting.plot_connectome(\n",
    "        mean_correlation_matrix,\n",
    "        coords,\n",
    "        title=title,\n",
    "        edge_threshold=\"90%\",  # Only plot edges above the 90th percentile\n",
    "        display_mode=\"lateral\",\n",
    "        colorbar=True,\n",
    "        node_size=10,\n",
    "    )\n",
    "    plt.show()"
   ]
  },
  {
   "cell_type": "code",
   "execution_count": null,
   "metadata": {},
   "outputs": [],
   "source": [
    "plot_connectome(\n",
    "    mean_corr_cort['asd'][1],  # Mean correlation matrix for ASD\n",
    "    msdl_coords,  # Coordinates for MSDL atlas\n",
    "    title = \"ASD Cort Connectome\"\n",
    ")\n"
   ]
  },
  {
   "cell_type": "code",
   "execution_count": null,
   "metadata": {},
   "outputs": [],
   "source": [
    "plot_connectome(\n",
    "    mean_corr_cort['tdc'][1],  # Mean correlation matrix for TDC\n",
    "    msdl_coords,  # Coordinates for MSDL atlas\n",
    "    title = \"TDC Cort Connectome\"\n",
    ")"
   ]
  },
  {
   "cell_type": "code",
   "execution_count": null,
   "metadata": {},
   "outputs": [],
   "source": [
    "plot_connectome(\n",
    "    mean_corr_whole['asd'][1],  # Mean correlation matrix for ASD\n",
    "    whole_coords,  # Coordinates for Harvard-Oxford atlas\n",
    "    \"ASD Whole Connectome\"\n",
    ")"
   ]
  },
  {
   "cell_type": "code",
   "execution_count": null,
   "metadata": {},
   "outputs": [],
   "source": [
    "plot_connectome(\n",
    "    mean_corr_whole['tdc'][1],  # Mean correlation matrix for TDC\n",
    "    whole_coords,  # Coordinates for Harvard-Oxford atlas\n",
    "    \"TDC Whole Connectome\"\n",
    ")"
   ]
  },
  {
   "cell_type": "markdown",
   "metadata": {},
   "source": [
    "## partial correlation"
   ]
  },
  {
   "cell_type": "code",
   "execution_count": null,
   "metadata": {},
   "outputs": [],
   "source": [
    "partial_correlation_measure = ConnectivityMeasure(\n",
    "    kind=\"partial correlation\",\n",
    "    standardize=\"zscore_sample\",\n",
    ")"
   ]
  },
  {
   "cell_type": "code",
   "execution_count": null,
   "metadata": {},
   "outputs": [],
   "source": [
    "# get cort corr matrices\n",
    "mean_partial_cort = get_mean_corr(cort_groups, correlation_measure=partial_correlation_measure)\n",
    "\n",
    "# get cereb corr matrices\n",
    "# mean_corr_cereb = get_mean_corr(cereb_groups)  \n",
    "\n",
    "# get whole corr matrices\n",
    "mean_partial_whole = get_mean_corr(whole_groups, correlation_measure=partial_correlation_measure)"
   ]
  },
  {
   "cell_type": "markdown",
   "metadata": {},
   "source": [
    "## tangent measure"
   ]
  },
  {
   "cell_type": "code",
   "execution_count": null,
   "metadata": {},
   "outputs": [],
   "source": [
    "tangent_measure = ConnectivityMeasure(\n",
    "    kind=\"tangent\",\n",
    "    standardize=\"zscore_sample\",\n",
    ")"
   ]
  },
  {
   "cell_type": "code",
   "execution_count": null,
   "metadata": {},
   "outputs": [],
   "source": [
    "# get cort corr matrices\n",
    "mean_tangent_cort = get_mean_corr(cort_groups, correlation_measure=partial_correlation_measure)\n",
    "\n",
    "# get cereb corr matrices\n",
    "# mean_corr_cereb = get_mean_corr(cereb_groups)  \n",
    "\n",
    "# get whole corr matrices\n",
    "mean_tangent_whole = get_mean_corr(whole_groups, correlation_measure=partial_correlation_measure)"
   ]
  }
 ],
 "metadata": {
  "kernelspec": {
   "display_name": "dynamric",
   "language": "python",
   "name": "python3"
  },
  "language_info": {
   "codemirror_mode": {
    "name": "ipython",
    "version": 3
   },
   "file_extension": ".py",
   "mimetype": "text/x-python",
   "name": "python",
   "nbconvert_exporter": "python",
   "pygments_lexer": "ipython3",
   "version": "3.13.0"
  }
 },
 "nbformat": 4,
 "nbformat_minor": 2
}
